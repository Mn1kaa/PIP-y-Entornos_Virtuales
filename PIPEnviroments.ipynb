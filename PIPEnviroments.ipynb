{
 "cells": [
  {
   "cell_type": "markdown",
   "metadata": {},
   "source": [
    "# PIP Y Entornos Virtuales"
   ]
  },
  {
   "attachments": {},
   "cell_type": "markdown",
   "metadata": {},
   "source": [
    "## GIT\n",
    "\n",
    "Usando git... recuerda que para hacer push la contraseña es la del token generado.\n",
    "\n",
    "### gitignore\n",
    "Usa gitignore.io  <---- herramienta para facilitar el git ignore... windows linux macos y python"
   ]
  },
  {
   "attachments": {},
   "cell_type": "markdown",
   "metadata": {},
   "source": [
    "## PIP\n",
    "\n",
    "Util para usar todas las librerías que tiene python... Esto nos facilita la resolución de problemas mediante su gestor de paquetes..\n",
    "\n",
    "En el navegador:\n",
    "\n",
    "pypi.org\n",
    "\n",
    "Un ejemplo que hemos usado antes sería  \n",
    "**1.-matplotlib...**\n",
    "\n",
    "**2.-numpy**\n",
    "\n",
    "A la hora de instalar una dependencia esta puede traer consigo o requerir la instalacion de otras dependencias.\n",
    "\n",
    "Para ver las dependencias instaladas se usa el siguiente comando\n",
    "\n",
    "**pip3 freeze** llama al entorno de python en general de toda la computadora... no del proyecto en específico \n",
    "\n",
    "### Errores al importar\n",
    "\n",
    "1.- No tenemos instalada la librería\n",
    "\n",
    "2.- Error de typing"
   ]
  },
  {
   "attachments": {},
   "cell_type": "markdown",
   "metadata": {},
   "source": [
    "\n",
    "# Ambientes Virtuales"
   ]
  },
  {
   "attachments": {},
   "cell_type": "markdown",
   "metadata": {},
   "source": [
    "## Explicacion\n",
    "\n",
    "Normalmente cuando se intala un modulo se instala de forma global...\n",
    "\n",
    "Esto puede ocasionar problemas cuando se trabaja para diferentes compañías ya que pueden chocar las versiones de las librerías utilizadas en el desarrollo del programa.\n",
    "\n",
    "Para esto se usan los entornos virtuales... ya que permiten la ejecucion de diferentes versiones de un software para diferentes segmentos del programa..\n",
    "\n",
    "**pip install matplotlib==3.5.0**\n",
    "\n",
    "\n",
    "## ¿Cómo usarlos?\n",
    "\n",
    "Primero vemos donde se ejecuta nuestro programa... en este caso python:\n",
    "\n",
    "**1.- which python3**\n",
    "\n",
    "Para Linux y Windows debemos instalar **venv**\n",
    "\n",
    "apt install -y python3-venv\n",
    "\n",
    "2.- Despues se corre el siguiente comando **ADENTRO DE LA CARPETA QUE ALMACENA EL PROYECTO**\n",
    "\n",
    "\n",
    "\n",
    "python3 -m venv nombre_del_ambiente <-- env es el nombre con el que llamaremos al entorno V\n",
    "\n",
    "Despues de ejecutar el comando se crea una carpeta con el nombre del entorno virtual..\n",
    "\n",
    "3.- Procedemos a activarla con :\n",
    " \n",
    " source nombre_del_ambiente/bin/activate  (entramos)\n",
    "\n",
    "4.- Salir del env :\n",
    "\n",
    "deactivate (salimos)\n",
    "\n",
    "Ahora si aplicamos un pip freeze nos saldra vacío al igual que si aplicamos un\n",
    "\n",
    "which python3 or which pip3 no saldra otra ruta...\n",
    "\n",
    "5.- Por ende procedemos a instalar  los modulos o paquetes  que usaremos unicamente para el desarrollo de este proyecto\n",
    "\n",
    "\n",
    "\n",
    "\n",
    "\n",
    "\n",
    " "
   ]
  },
  {
   "attachments": {},
   "cell_type": "markdown",
   "metadata": {},
   "source": [
    "# requirements.txt"
   ]
  },
  {
   "attachments": {},
   "cell_type": "markdown",
   "metadata": {},
   "source": [
    "Sirve para tener listadas las dependencias y en que versiones las necesita.\n"
   ]
  },
  {
   "attachments": {},
   "cell_type": "markdown",
   "metadata": {},
   "source": [
    "Se usa la salida:\n",
    "\n",
    "pip3 freeze > requirements.txt    (Crea un archivo de texto plano)\n",
    "\n",
    "con esto podemos usar\n",
    "\n",
    "**pip3 install -r requirements.txt**    (Así instalamos todas las dependencias listadas en este archivo)"
   ]
  }
 ],
 "metadata": {
  "kernelspec": {
   "display_name": "Python 3",
   "language": "python",
   "name": "python3"
  },
  "language_info": {
   "name": "python",
   "version": "3.8.10"
  },
  "orig_nbformat": 4,
  "vscode": {
   "interpreter": {
    "hash": "916dbcbb3f70747c44a77c7bcd40155683ae19c65e1c03b4aa3499c5328201f1"
   }
  }
 },
 "nbformat": 4,
 "nbformat_minor": 2
}

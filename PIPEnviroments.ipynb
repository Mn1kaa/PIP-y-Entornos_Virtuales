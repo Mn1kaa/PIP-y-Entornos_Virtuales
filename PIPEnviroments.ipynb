{
 "cells": [
  {
   "cell_type": "markdown",
   "metadata": {},
   "source": [
    "# PIP Y Entornos Virtuales"
   ]
  },
  {
   "attachments": {},
   "cell_type": "markdown",
   "metadata": {},
   "source": [
    "## GIT\n",
    "\n",
    "Usando git... recuerda que para hacer push la contraseña es la del token generado.\n",
    "\n",
    "### gitignore\n",
    "Usa gitignore.io  <---- herramienta para facilitar el git ignore... windows linux macos y python"
   ]
  },
  {
   "attachments": {},
   "cell_type": "markdown",
   "metadata": {},
   "source": [
    "## PIP\n",
    "\n",
    "Util para usar todas las librerías que tiene python... Esto nos facilita la resolución de problemas mediante su gestor de paquetes..\n",
    "\n",
    "En el navegador:\n",
    "\n",
    "pypi.org\n",
    "\n",
    "Un ejemplo que hemos usado antes sería  \n",
    "**1.-matplotlib...**\n",
    "\n",
    "**2.-numpy**\n",
    "\n",
    "A la hora de instalar una dependencia esta puede traer consigo o requerir la instalacion de otras dependencias.\n",
    "\n",
    "Para ver las dependencias instaladas se usa el siguiente comando\n",
    "\n",
    "**pip3 freeze** llama al entorno de python en general de toda la computadora... no del proyecto en específico \n",
    "\n",
    "### Errores al importar\n",
    "\n",
    "1.- No tenemos instalada la librería\n",
    "\n",
    "2.- Error de typing"
   ]
  },
  {
   "cell_type": "code",
   "execution_count": null,
   "metadata": {},
   "outputs": [],
   "source": []
  }
 ],
 "metadata": {
  "kernelspec": {
   "display_name": "Python 3",
   "language": "python",
   "name": "python3"
  },
  "language_info": {
   "name": "python",
   "version": "3.8.10"
  },
  "orig_nbformat": 4,
  "vscode": {
   "interpreter": {
    "hash": "916dbcbb3f70747c44a77c7bcd40155683ae19c65e1c03b4aa3499c5328201f1"
   }
  }
 },
 "nbformat": 4,
 "nbformat_minor": 2
}
